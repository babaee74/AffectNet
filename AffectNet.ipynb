{
  "nbformat": 4,
  "nbformat_minor": 0,
  "metadata": {
    "colab": {
      "provenance": [],
      "collapsed_sections": [
        "6UeAAZ8Dp7ab",
        "3lRogGoAflOA",
        "7JBzHx48fp30",
        "E6JtBZ3qfxOw"
      ]
    },
    "kernelspec": {
      "name": "python3",
      "display_name": "Python 3"
    },
    "language_info": {
      "name": "python"
    },
    "accelerator": "GPU"
  },
  "cells": [
    {
      "cell_type": "code",
      "metadata": {
        "id": "kNExkMM_yGyH",
        "colab": {
          "base_uri": "https://localhost:8080/"
        },
        "outputId": "bcd69179-dcaa-4832-c3e3-0e545d2be2fb"
      },
      "source": [
        "from google.colab import drive\n",
        "drive.mount('/content/drive')"
      ],
      "execution_count": null,
      "outputs": [
        {
          "output_type": "stream",
          "name": "stdout",
          "text": [
            "Mounted at /content/drive\n"
          ]
        }
      ]
    },
    {
      "cell_type": "code",
      "metadata": {
        "colab": {
          "base_uri": "https://localhost:8080/"
        },
        "id": "hTq7MemgZCx6",
        "outputId": "31abdeac-0fb7-4b70-8b94-f2d0f326ed52"
      },
      "source": [
        "!pip install -q -U tensorflow-addons"
      ],
      "execution_count": null,
      "outputs": [
        {
          "output_type": "stream",
          "name": "stdout",
          "text": [
            "\u001b[K     |████████████████████████████████| 1.1 MB 2.4 MB/s \n",
            "\u001b[?25h"
          ]
        }
      ]
    },
    {
      "cell_type": "code",
      "metadata": {
        "id": "n_8kRDVDWpzO"
      },
      "source": [
        "import tensorflow_addons as tfa\n",
        "import tensorflow as tf\n",
        "import pandas as pd\n",
        "import numpy as np\n",
        "import matplotlib.pyplot as plt\n",
        "from tensorflow.keras.layers import Input, Lambda\n",
        "import glob\n",
        "import os\n",
        "import cv2"
      ],
      "execution_count": null,
      "outputs": []
    },
    {
      "cell_type": "markdown",
      "metadata": {
        "id": "6UeAAZ8Dp7ab"
      },
      "source": [
        "# Download Dataset"
      ]
    },
    {
      "cell_type": "code",
      "metadata": {
        "id": "zbH9NdgdW4Jg"
      },
      "source": [
        "!pip install -q kaggle"
      ],
      "execution_count": null,
      "outputs": []
    },
    {
      "cell_type": "code",
      "metadata": {
        "id": "rkj_jN-KXvqk"
      },
      "source": [
        "from google.colab import files"
      ],
      "execution_count": null,
      "outputs": []
    },
    {
      "cell_type": "code",
      "metadata": {
        "colab": {
          "resources": {
            "http://localhost:8080/nbextensions/google.colab/files.js": {
              "data": "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",
              "ok": true,
              "headers": [
                [
                  "content-type",
                  "application/javascript"
                ]
              ],
              "status": 200,
              "status_text": "OK"
            }
          },
          "base_uri": "https://localhost:8080/",
          "height": 73
        },
        "id": "9SpYpnSRXvoD",
        "outputId": "f501c8a4-6d10-4c96-b597-519cf67f4421"
      },
      "source": [
        "uploaded = files.upload()"
      ],
      "execution_count": null,
      "outputs": [
        {
          "output_type": "display_data",
          "data": {
            "text/html": [
              "\n",
              "     <input type=\"file\" id=\"files-f4321502-d0b2-4758-b741-516855edfbc4\" name=\"files[]\" multiple disabled\n",
              "        style=\"border:none\" />\n",
              "     <output id=\"result-f4321502-d0b2-4758-b741-516855edfbc4\">\n",
              "      Upload widget is only available when the cell has been executed in the\n",
              "      current browser session. Please rerun this cell to enable.\n",
              "      </output>\n",
              "      <script src=\"/nbextensions/google.colab/files.js\"></script> "
            ],
            "text/plain": [
              "<IPython.core.display.HTML object>"
            ]
          },
          "metadata": {}
        },
        {
          "output_type": "stream",
          "name": "stdout",
          "text": [
            "Saving kaggle.json to kaggle.json\n"
          ]
        }
      ]
    },
    {
      "cell_type": "code",
      "metadata": {
        "id": "1CAxuk5tXvlJ"
      },
      "source": [
        "!mkdir ~/.kaggle"
      ],
      "execution_count": null,
      "outputs": []
    },
    {
      "cell_type": "code",
      "metadata": {
        "id": "T_Koe31JXvig"
      },
      "source": [
        "!cp kaggle.json ~/.kaggle/"
      ],
      "execution_count": null,
      "outputs": []
    },
    {
      "cell_type": "code",
      "metadata": {
        "id": "O9TXtbBOXvfl"
      },
      "source": [
        "!chmod 600 ~/.kaggle/kaggle.json"
      ],
      "execution_count": null,
      "outputs": []
    },
    {
      "cell_type": "code",
      "metadata": {
        "id": "_Z-RfAJtX_Qb",
        "colab": {
          "base_uri": "https://localhost:8080/"
        },
        "outputId": "27194a87-b5fa-4653-938e-9682ef9110e9"
      },
      "source": [
        "!pip install --upgrade --force-reinstall --no-deps kaggle"
      ],
      "execution_count": null,
      "outputs": [
        {
          "output_type": "stream",
          "name": "stdout",
          "text": [
            "Collecting kaggle\n",
            "  Downloading kaggle-1.5.12.tar.gz (58 kB)\n",
            "\u001b[?25l\r\u001b[K     |█████▋                          | 10 kB 29.7 MB/s eta 0:00:01\r\u001b[K     |███████████▏                    | 20 kB 20.9 MB/s eta 0:00:01\r\u001b[K     |████████████████▊               | 30 kB 10.6 MB/s eta 0:00:01\r\u001b[K     |██████████████████████▎         | 40 kB 8.9 MB/s eta 0:00:01\r\u001b[K     |███████████████████████████▉    | 51 kB 5.2 MB/s eta 0:00:01\r\u001b[K     |████████████████████████████████| 58 kB 3.1 MB/s \n",
            "\u001b[?25hBuilding wheels for collected packages: kaggle\n",
            "  Building wheel for kaggle (setup.py) ... \u001b[?25l\u001b[?25hdone\n",
            "  Created wheel for kaggle: filename=kaggle-1.5.12-py3-none-any.whl size=73051 sha256=897275c2c2346edcd5da3ff663bfc6577245de530390ccca2f19ff203639f742\n",
            "  Stored in directory: /root/.cache/pip/wheels/62/d6/58/5853130f941e75b2177d281eb7e44b4a98ed46dd155f556dc5\n",
            "Successfully built kaggle\n",
            "Installing collected packages: kaggle\n",
            "  Attempting uninstall: kaggle\n",
            "    Found existing installation: kaggle 1.5.12\n",
            "    Uninstalling kaggle-1.5.12:\n",
            "      Successfully uninstalled kaggle-1.5.12\n",
            "Successfully installed kaggle-1.5.12\n"
          ]
        }
      ]
    },
    {
      "cell_type": "code",
      "metadata": {
        "colab": {
          "base_uri": "https://localhost:8080/"
        },
        "id": "VSivnVqjX_No",
        "outputId": "5134f56d-f937-46e6-b9f5-ed29e22aa8e6"
      },
      "source": [
        "#!kaggle datasets download -d mouadriali/affectnetsample\n",
        "!kaggle datasets download -d ptfrwrd/affectnet"
      ],
      "execution_count": null,
      "outputs": [
        {
          "output_type": "stream",
          "name": "stdout",
          "text": [
            "Downloading affectnet.zip to /content\n",
            "100% 4.28G/4.29G [01:13<00:00, 57.9MB/s]\n",
            "100% 4.29G/4.29G [01:13<00:00, 62.9MB/s]\n"
          ]
        }
      ]
    },
    {
      "cell_type": "code",
      "metadata": {
        "id": "2nYMVCjMX_Ku"
      },
      "source": [
        "!mkdir data"
      ],
      "execution_count": null,
      "outputs": []
    },
    {
      "cell_type": "code",
      "metadata": {
        "id": "ctg-PiwrbYnk"
      },
      "source": [
        "!mkdir datafer"
      ],
      "execution_count": null,
      "outputs": []
    },
    {
      "cell_type": "code",
      "metadata": {
        "id": "kH2pVZHGX_ID"
      },
      "source": [
        "!unzip /content/affectnet.zip -d /content/data"
      ],
      "execution_count": null,
      "outputs": []
    },
    {
      "cell_type": "code",
      "metadata": {
        "id": "KlGa86i1X8N_"
      },
      "source": [
        "!rm /content/affectnet.zip"
      ],
      "execution_count": null,
      "outputs": []
    },
    {
      "cell_type": "code",
      "metadata": {
        "colab": {
          "base_uri": "https://localhost:8080/"
        },
        "id": "F0vIYaxGX45Z",
        "outputId": "5d609acf-8f85-4890-ec4d-49cd5f96ff33"
      },
      "source": [
        "!kaggle datasets download -d msambare/fer2013"
      ],
      "execution_count": null,
      "outputs": [
        {
          "output_type": "stream",
          "name": "stdout",
          "text": [
            "Downloading fer2013.zip to /content\n",
            " 75% 45.0M/60.3M [00:00<00:00, 125MB/s]\n",
            "100% 60.3M/60.3M [00:00<00:00, 144MB/s]\n"
          ]
        }
      ]
    },
    {
      "cell_type": "code",
      "metadata": {
        "id": "-4MbV-wFbV4_"
      },
      "source": [
        "!unzip /content/fer2013.zip -d /content/datafer"
      ],
      "execution_count": null,
      "outputs": []
    },
    {
      "cell_type": "code",
      "metadata": {
        "colab": {
          "base_uri": "https://localhost:8080/"
        },
        "id": "1d8c16yLbjBv",
        "outputId": "8c9f5b97-7a59-492c-d9ec-50a16f35c914"
      },
      "source": [
        "!rm /content/affectnet.zip"
      ],
      "execution_count": null,
      "outputs": [
        {
          "output_type": "stream",
          "name": "stdout",
          "text": [
            "rm: cannot remove '/content/affectnet.zip': No such file or directory\n"
          ]
        }
      ]
    },
    {
      "cell_type": "markdown",
      "metadata": {
        "id": "3quTR-YPokVr"
      },
      "source": [
        "# Creating TFRecords"
      ]
    },
    {
      "cell_type": "code",
      "metadata": {
        "id": "4W7usspXZAjy"
      },
      "source": [
        "int2label = {0: \"Neutral\",\n",
        "             1: \"Happy\",\n",
        "             2: \"Sad\",\n",
        "             3: \"Surprise\",\n",
        "             4: \"Fear\",\n",
        "             5: \"Disgust\",\n",
        "             6: \"anger\",\n",
        "             7: \"Contempt\"}"
      ],
      "execution_count": null,
      "outputs": []
    },
    {
      "cell_type": "code",
      "metadata": {
        "id": "tqbEr3JAXvcd"
      },
      "source": [
        "def _bytes_feature(value):\n",
        "  \"\"\"Returns a bytes_list from a string / byte.\"\"\"\n",
        "  if isinstance(value, type(tf.constant(0))):\n",
        "    value = value.numpy() # BytesList won't unpack a string from an EagerTensor.\n",
        "  return tf.train.Feature(bytes_list=tf.train.BytesList(value=[value]))\n",
        "\n",
        "def _float_feature(value):\n",
        "  \"\"\"Returns a float_list from a float / double.\"\"\"\n",
        "  return tf.train.Feature(float_list=tf.train.FloatList(value=[value]))\n",
        "\n",
        "def _int64_feature(value):\n",
        "  \"\"\"Returns an int64_list from a bool / enum / int / uint.\"\"\"\n",
        "  return tf.train.Feature(int64_list=tf.train.Int64List(value=[value]))"
      ],
      "execution_count": null,
      "outputs": []
    },
    {
      "cell_type": "code",
      "metadata": {
        "id": "VT1uPdjIayKR"
      },
      "source": [
        "def serialize_example(img, img_name, label):\n",
        "  feature = {\n",
        "      'image': _bytes_feature(img),\n",
        "      'image_name': _bytes_feature(img_name),\n",
        "      'target': _int64_feature(label)\n",
        "  }\n",
        "  example_proto = tf.train.Example(features=tf.train.Features(feature=feature))\n",
        "  return example_proto.SerializeToString()"
      ],
      "execution_count": null,
      "outputs": []
    },
    {
      "cell_type": "code",
      "metadata": {
        "id": "v3gzom90ccjm"
      },
      "source": [
        "image_size= 224"
      ],
      "execution_count": null,
      "outputs": []
    },
    {
      "cell_type": "code",
      "metadata": {
        "id": "0YEXajnhbFcX",
        "colab": {
          "base_uri": "https://localhost:8080/"
        },
        "outputId": "a3d6f899-e554-4f4a-ea25-e46c6a2a2f5a"
      },
      "source": [
        "save_path = '/content/drive/MyDrive/AffectNet/data/train'\n",
        "paths = ['/content/data/train_val_by_class/train_class/class001',\n",
        "         '/content/data/train_val_by_class/train_class/class002',\n",
        "         '/content/data/train_val_by_class/train_class/class003',\n",
        "         '/content/data/train_val_by_class/train_class/class004',\n",
        "         '/content/data/train_val_by_class/train_class/class005',\n",
        "         '/content/data/train_val_by_class/train_class/class006',\n",
        "         '/content/data/train_val_by_class/train_class/class007',\n",
        "         '/content/data/train_val_by_class/train_class/class008']\n",
        "number_of_train_samples = []\n",
        "for c,p in enumerate(paths):\n",
        "  print(c)\n",
        "  class_name=p.split('/')[-1]\n",
        "  images = glob.glob(os.path.join(p,'*.jpg'))\n",
        "  number_of_train_samples.append(len(images))\n",
        "  with tf.io.TFRecordWriter(os.path.join(save_path, class_name+'.tfrec')) as writer:\n",
        "    for img_path in images:\n",
        "      img = cv2.imread(img_path)\n",
        "      img = cv2.cvtColor(img, cv2.COLOR_RGB2BGR) # Fix incorrect colors\n",
        "      img = cv2.resize(img, (image_size, image_size))\n",
        "      img = cv2.imencode('.jpg', img, (cv2.IMWRITE_JPEG_QUALITY, 94))[1].tostring()\n",
        "      name = img_path.split('/')[-1]\n",
        "      target = c\n",
        "      example = serialize_example(img, str.encode(name),target)\n",
        "      writer.write(example)"
      ],
      "execution_count": null,
      "outputs": [
        {
          "metadata": {
            "tags": null
          },
          "name": "stdout",
          "output_type": "stream",
          "text": [
            "0\n"
          ]
        },
        {
          "metadata": {
            "tags": null
          },
          "name": "stderr",
          "output_type": "stream",
          "text": [
            "/usr/local/lib/python3.7/dist-packages/ipykernel_launcher.py:21: DeprecationWarning: tostring() is deprecated. Use tobytes() instead.\n"
          ]
        },
        {
          "output_type": "stream",
          "name": "stdout",
          "text": [
            "1\n",
            "2\n",
            "3\n",
            "4\n",
            "5\n",
            "6\n",
            "7\n"
          ]
        }
      ]
    },
    {
      "cell_type": "code",
      "metadata": {
        "id": "tcAx9H0uayHD",
        "colab": {
          "base_uri": "https://localhost:8080/"
        },
        "outputId": "aa9ec8da-666e-49be-80ca-909d7f1529f9"
      },
      "source": [
        "save_path = '/content/drive/MyDrive/AffectNet/data/val'\n",
        "paths = ['/content/data/train_val_by_class/val_class/class001',\n",
        "         '/content/data/train_val_by_class/val_class/class002',\n",
        "         '/content/data/train_val_by_class/val_class/class003',\n",
        "         '/content/data/train_val_by_class/val_class/class004',\n",
        "         '/content/data/train_val_by_class/val_class/class005',\n",
        "         '/content/data/train_val_by_class/val_class/class006',\n",
        "         '/content/data/train_val_by_class/val_class/class007',\n",
        "         '/content/data/train_val_by_class/val_class/class008']\n",
        "number_of_val_samples = []\n",
        "for c,p in enumerate(paths):\n",
        "  print(c)\n",
        "  class_name=p.split('/')[-1]\n",
        "  images = glob.glob(os.path.join(p,'*.jpg'))\n",
        "  number_of_val_samples.append(len(images))\n",
        "  with tf.io.TFRecordWriter(os.path.join(save_path, class_name+'.tfrec')) as writer:\n",
        "    for img_path in images:\n",
        "      img = cv2.imread(img_path)\n",
        "      img = cv2.cvtColor(img, cv2.COLOR_RGB2BGR) # Fix incorrect colors\n",
        "      img = cv2.resize(img, (image_size, image_size))\n",
        "      img = cv2.imencode('.jpg', img, (cv2.IMWRITE_JPEG_QUALITY, 94))[1].tostring()\n",
        "      name = img_path.split('/')[-1]\n",
        "      target = c\n",
        "      example = serialize_example(img, str.encode(name),target)\n",
        "      writer.write(example)"
      ],
      "execution_count": null,
      "outputs": [
        {
          "output_type": "stream",
          "name": "stdout",
          "text": [
            "0\n"
          ]
        },
        {
          "output_type": "stream",
          "name": "stderr",
          "text": [
            "/usr/local/lib/python3.7/dist-packages/ipykernel_launcher.py:21: DeprecationWarning: tostring() is deprecated. Use tobytes() instead.\n"
          ]
        },
        {
          "output_type": "stream",
          "name": "stdout",
          "text": [
            "1\n",
            "2\n",
            "3\n",
            "4\n",
            "5\n",
            "6\n",
            "7\n"
          ]
        }
      ]
    },
    {
      "cell_type": "code",
      "metadata": {
        "colab": {
          "base_uri": "https://localhost:8080/"
        },
        "id": "1g4369aqcmC8",
        "outputId": "53ee20c3-5cae-469c-ab7e-f57e808c8b3c"
      },
      "source": [
        "save_path = '/content/drive/MyDrive/AffectNet/data/train'\n",
        "classes = ['neutral', 'happy', 'sad', 'surprise', 'fear', 'disgust', 'angry']\n",
        "number_of_train_samples = []\n",
        "for c,name in enumerate(classes):\n",
        "  p= os.path.join('/content/datafer/train', name)\n",
        "  print(c)\n",
        "  images = glob.glob(os.path.join(p,'*.jpg'))\n",
        "  number_of_train_samples.append(len(images))\n",
        "  with tf.io.TFRecordWriter(os.path.join(save_path, name+'.tfrec')) as writer:\n",
        "    for img_path in images:\n",
        "      img = cv2.imread(img_path)\n",
        "      img = cv2.cvtColor(img, cv2.COLOR_RGB2BGR) # Fix incorrect colors\n",
        "      img = cv2.resize(img, (image_size, image_size))\n",
        "      img = cv2.imencode('.jpg', img, (cv2.IMWRITE_JPEG_QUALITY, 94))[1].tostring()\n",
        "      name = img_path.split('/')[-1]\n",
        "      target = c\n",
        "      example = serialize_example(img, str.encode(name),target)\n",
        "      writer.write(example)"
      ],
      "execution_count": null,
      "outputs": [
        {
          "output_type": "stream",
          "name": "stdout",
          "text": [
            "0\n"
          ]
        },
        {
          "output_type": "stream",
          "name": "stderr",
          "text": [
            "/usr/local/lib/python3.7/dist-packages/ipykernel_launcher.py:14: DeprecationWarning: tostring() is deprecated. Use tobytes() instead.\n",
            "  \n"
          ]
        },
        {
          "output_type": "stream",
          "name": "stdout",
          "text": [
            "1\n",
            "2\n",
            "3\n",
            "4\n",
            "5\n",
            "6\n"
          ]
        }
      ]
    },
    {
      "cell_type": "code",
      "metadata": {
        "colab": {
          "base_uri": "https://localhost:8080/"
        },
        "id": "sAemeagJemYh",
        "outputId": "63a53eb1-aff7-43a0-ab28-e7685002c6bd"
      },
      "source": [
        "number_of_train_samples"
      ],
      "execution_count": null,
      "outputs": [
        {
          "output_type": "execute_result",
          "data": {
            "text/plain": [
              "[4965, 7215, 4830, 3171, 4097, 436, 3995]"
            ]
          },
          "metadata": {},
          "execution_count": 34
        }
      ]
    },
    {
      "cell_type": "code",
      "metadata": {
        "colab": {
          "base_uri": "https://localhost:8080/"
        },
        "id": "iSDowhN6cl0s",
        "outputId": "76f9bbc5-eece-42b0-efa6-4131019afa31"
      },
      "source": [
        "save_path = '/content/drive/MyDrive/AffectNet/data/val'\n",
        "classes = ['neutral', 'happy', 'sad', 'surprise', 'fear', 'disgust', 'angry']\n",
        "number_of_val_samples = []\n",
        "for c,name in enumerate(classes):\n",
        "  p= os.path.join('/content/datafer/test', name)\n",
        "  print(c)\n",
        "  images = glob.glob(os.path.join(p,'*.jpg'))\n",
        "  number_of_val_samples.append(len(images))\n",
        "  with tf.io.TFRecordWriter(os.path.join(save_path, name+'.tfrec')) as writer:\n",
        "    for img_path in images:\n",
        "      img = cv2.imread(img_path)\n",
        "      img = cv2.cvtColor(img, cv2.COLOR_RGB2BGR) # Fix incorrect colors\n",
        "      img = cv2.resize(img, (image_size, image_size))\n",
        "      img = cv2.imencode('.jpg', img, (cv2.IMWRITE_JPEG_QUALITY, 94))[1].tostring()\n",
        "      name = img_path.split('/')[-1]\n",
        "      target = c\n",
        "      example = serialize_example(img, str.encode(name),target)\n",
        "      writer.write(example)"
      ],
      "execution_count": null,
      "outputs": [
        {
          "output_type": "stream",
          "name": "stdout",
          "text": [
            "0\n"
          ]
        },
        {
          "output_type": "stream",
          "name": "stderr",
          "text": [
            "/usr/local/lib/python3.7/dist-packages/ipykernel_launcher.py:14: DeprecationWarning: tostring() is deprecated. Use tobytes() instead.\n",
            "  \n"
          ]
        },
        {
          "output_type": "stream",
          "name": "stdout",
          "text": [
            "1\n",
            "2\n",
            "3\n",
            "4\n",
            "5\n",
            "6\n"
          ]
        }
      ]
    },
    {
      "cell_type": "code",
      "metadata": {
        "colab": {
          "base_uri": "https://localhost:8080/"
        },
        "id": "ZMun1xA-eq3X",
        "outputId": "060c6bdc-2eba-4017-9c44-554c0a174106"
      },
      "source": [
        "number_of_val_samples"
      ],
      "execution_count": null,
      "outputs": [
        {
          "output_type": "execute_result",
          "data": {
            "text/plain": [
              "[1233, 1774, 1247, 831, 1024, 111, 958]"
            ]
          },
          "metadata": {},
          "execution_count": 36
        }
      ]
    },
    {
      "cell_type": "markdown",
      "metadata": {
        "id": "D5NplA3m0cy2"
      },
      "source": [
        "# Params"
      ]
    },
    {
      "cell_type": "code",
      "metadata": {
        "id": "DHtpduuQaqZi"
      },
      "source": [
        "image_size= 224"
      ],
      "execution_count": null,
      "outputs": []
    },
    {
      "cell_type": "code",
      "metadata": {
        "id": "zD_JwVqPeuag"
      },
      "source": [
        "number_of_train_samples_fer = [4965, 7215, 4830, 3171, 4097, 436, 3995]"
      ],
      "execution_count": null,
      "outputs": []
    },
    {
      "cell_type": "code",
      "metadata": {
        "id": "qZ-Xcw_-m-0d"
      },
      "source": [
        "number_of_train_samples = [5000, 5000, 5000, 5000, 5000, 3803, 5000]#, 3750]"
      ],
      "execution_count": null,
      "outputs": []
    },
    {
      "cell_type": "code",
      "metadata": {
        "id": "HIJX7LPHe-Px"
      },
      "source": [
        "number_of_val_samples_fer=[1233, 1774, 1247, 831, 1024, 111, 958]"
      ],
      "execution_count": null,
      "outputs": []
    },
    {
      "cell_type": "code",
      "metadata": {
        "id": "XSpSiwClnDG0"
      },
      "source": [
        "number_of_val_samples = [500, 500, 500, 500, 500, 500, 500]#, 500]"
      ],
      "execution_count": null,
      "outputs": []
    },
    {
      "cell_type": "code",
      "metadata": {
        "colab": {
          "base_uri": "https://localhost:8080/"
        },
        "id": "21eFO3EIfCJn",
        "outputId": "caab1baa-31d9-4f2c-9551-0e102a99c137"
      },
      "source": [
        "number_of_train_samples = [number_of_train_samples_fer[i]+v for i, v in enumerate(number_of_train_samples)]\n",
        "number_of_train_samples"
      ],
      "execution_count": null,
      "outputs": [
        {
          "output_type": "execute_result",
          "data": {
            "text/plain": [
              "[9965, 12215, 9830, 8171, 9097, 4239, 8995]"
            ]
          },
          "metadata": {},
          "execution_count": 9
        }
      ]
    },
    {
      "cell_type": "code",
      "metadata": {
        "colab": {
          "base_uri": "https://localhost:8080/"
        },
        "id": "ySRy9fc_fXnd",
        "outputId": "86b94eee-4c0f-4199-845e-002d7203a964"
      },
      "source": [
        "number_of_val_samples = [number_of_val_samples_fer[i]+v for i, v in enumerate(number_of_val_samples)]\n",
        "number_of_val_samples"
      ],
      "execution_count": null,
      "outputs": [
        {
          "output_type": "execute_result",
          "data": {
            "text/plain": [
              "[1733, 2274, 1747, 1331, 1524, 611, 1458]"
            ]
          },
          "metadata": {},
          "execution_count": 10
        }
      ]
    },
    {
      "cell_type": "markdown",
      "metadata": {
        "id": "tzVk_XBUdHOU"
      },
      "source": [
        "# Generator"
      ]
    },
    {
      "cell_type": "markdown",
      "metadata": {
        "id": "3lRogGoAflOA"
      },
      "source": [
        "## Augment functions"
      ]
    },
    {
      "cell_type": "code",
      "metadata": {
        "id": "1f0ArrIhayAf"
      },
      "source": [
        "def blend(image1, image2, factor):\n",
        "  \"\"\"Blend image1 and image2 using 'factor'.\n",
        "\n",
        "  Factor can be above 0.0.  A value of 0.0 means only image1 is used.\n",
        "  A value of 1.0 means only image2 is used.  A value between 0.0 and\n",
        "  1.0 means we linearly interpolate the pixel values between the two\n",
        "  images.  A value greater than 1.0 \"extrapolates\" the difference\n",
        "  between the two pixel values, and we clip the results to values\n",
        "  between 0 and 255.\n",
        "\n",
        "  Args:\n",
        "    image1: An image Tensor of type uint8.\n",
        "    image2: An image Tensor of type uint8.\n",
        "    factor: A floating point value above 0.0.\n",
        "\n",
        "  Returns:\n",
        "    A blended image Tensor of type uint8.\n",
        "  \"\"\"\n",
        "  if factor == 0.0:\n",
        "    return tf.convert_to_tensor(image1)\n",
        "  if factor == 1.0:\n",
        "    return tf.convert_to_tensor(image2)\n",
        "\n",
        "  image1 = tf.to_float(image1)\n",
        "  image2 = tf.to_float(image2)\n",
        "\n",
        "  difference = image2 - image1\n",
        "  scaled = factor * difference\n",
        "\n",
        "  # Do addition in float.\n",
        "  temp = tf.to_float(image1) + scaled\n",
        "\n",
        "  # Interpolate\n",
        "  if factor > 0.0 and factor < 1.0:\n",
        "    # Interpolation means we always stay within 0 and 255.\n",
        "    return tf.cast(temp, tf.uint8)\n",
        "\n",
        "  # Extrapolate:\n",
        "  #\n",
        "  # We need to clip and then cast.\n",
        "  return tf.cast(tf.clip_by_value(temp, 0.0, 255.0), tf.uint8)\n",
        "\n",
        "\n",
        "def cutout(image, pad_size, replace=0):\n",
        "  \"\"\"Apply cutout (https://arxiv.org/abs/1708.04552) to image.\n",
        "\n",
        "  This operation applies a (2*pad_size x 2*pad_size) mask of zeros to\n",
        "  a random location within `img`. The pixel values filled in will be of the\n",
        "  value `replace`. The located where the mask will be applied is randomly\n",
        "  chosen uniformly over the whole image.\n",
        "\n",
        "  Args:\n",
        "    image: An image Tensor of type uint8.\n",
        "    pad_size: Specifies how big the zero mask that will be generated is that\n",
        "      is applied to the image. The mask will be of size\n",
        "      (2*pad_size x 2*pad_size).\n",
        "    replace: What pixel value to fill in the image in the area that has\n",
        "      the cutout mask applied to it.\n",
        "\n",
        "  Returns:\n",
        "    An image Tensor that is of type uint8.\n",
        "  \"\"\"\n",
        "  image_height = tf.shape(image)[0]\n",
        "  image_width = tf.shape(image)[1]\n",
        "\n",
        "  # Sample the center location in the image where the zero mask will be applied.\n",
        "  cutout_center_height = tf.random.uniform(\n",
        "      shape=[], minval=0, maxval=image_height,\n",
        "      dtype=tf.int32)\n",
        "\n",
        "  cutout_center_width = tf.random.uniform(\n",
        "      shape=[], minval=0, maxval=image_width,\n",
        "      dtype=tf.int32)\n",
        "\n",
        "  lower_pad = tf.maximum(0, cutout_center_height - pad_size)\n",
        "  upper_pad = tf.maximum(0, image_height - cutout_center_height - pad_size)\n",
        "  left_pad = tf.maximum(0, cutout_center_width - pad_size)\n",
        "  right_pad = tf.maximum(0, image_width - cutout_center_width - pad_size)\n",
        "\n",
        "  cutout_shape = [image_height - (lower_pad + upper_pad),\n",
        "                  image_width - (left_pad + right_pad)]\n",
        "  padding_dims = [[lower_pad, upper_pad], [left_pad, right_pad]]\n",
        "  mask = tf.pad(\n",
        "      tf.zeros(cutout_shape, dtype=image.dtype),\n",
        "      padding_dims, constant_values=1)\n",
        "  mask = tf.expand_dims(mask, -1)\n",
        "  mask = tf.tile(mask, [1, 1, 3])\n",
        "  image = tf.where(\n",
        "      tf.equal(mask, 0),\n",
        "      tf.ones_like(image, dtype=image.dtype) * replace,\n",
        "      image)\n",
        "  return image\n",
        "\n",
        "\n",
        "def solarize(image, threshold=128):\n",
        "  # For each pixel in the image, select the pixel\n",
        "  # if the value is less than the threshold.\n",
        "  # Otherwise, subtract 255 from the pixel.\n",
        "  return tf.where(image < threshold, image, 255 - image)\n",
        "\n",
        "\n",
        "\n",
        "def solarize_add(image, addition=0, threshold=128):\n",
        "  # For each pixel in the image less than threshold\n",
        "  # we add 'addition' amount to it and then clip the\n",
        "  # pixel value to be between 0 and 255. The value\n",
        "  # of 'addition' is between -128 and 128.\n",
        "  added_image = tf.cast(image, tf.int64) + addition\n",
        "  added_image = tf.cast(tf.clip_by_value(added_image, 0, 255), tf.uint8)\n",
        "  return tf.where(image < threshold, added_image, image)\n",
        "\n",
        "\n",
        "def color(image, factor):\n",
        "  \"\"\"Equivalent of PIL Color.\"\"\"\n",
        "  degenerate = tf.image.grayscale_to_rgb(tf.image.rgb_to_grayscale(image))\n",
        "  return blend(degenerate, image, factor)\n",
        "\n",
        "\n",
        "def contrast(image, factor):\n",
        "  \"\"\"Equivalent of PIL Contrast.\"\"\"\n",
        "  degenerate = tf.image.rgb_to_grayscale(image)\n",
        "  # Cast before calling tf.histogram.\n",
        "  degenerate = tf.cast(degenerate, tf.int32)\n",
        "\n",
        "  # Compute the grayscale histogram, then compute the mean pixel value,\n",
        "  # and create a constant image size of that value.  Use that as the\n",
        "  # blending degenerate target of the original image.\n",
        "  hist = tf.histogram_fixed_width(degenerate, [0, 255], nbins=256)\n",
        "  mean = tf.reduce_sum(tf.cast(hist, tf.float32)) / 256.0\n",
        "  degenerate = tf.ones_like(degenerate, dtype=tf.float32) * mean\n",
        "  degenerate = tf.clip_by_value(degenerate, 0.0, 255.0)\n",
        "  degenerate = tf.image.grayscale_to_rgb(tf.cast(degenerate, tf.uint8))\n",
        "  return blend(degenerate, image, factor)\n",
        "\n",
        "\n",
        "def brightness(image, factor):\n",
        "  \"\"\"Equivalent of PIL Brightness.\"\"\"\n",
        "  degenerate = tf.zeros_like(image)\n",
        "  return blend(degenerate, image, factor)\n",
        "\n",
        "\n",
        "def posterize(image, bits):\n",
        "  \"\"\"Equivalent of PIL Posterize.\"\"\"\n",
        "  shift = 8 - bits\n",
        "  return tf.bitwise.left_shift(tf.bitwise.right_shift(image, shift), shift)\n",
        "\n",
        "def autocontrast(image):\n",
        "  \"\"\"Implements Autocontrast function from PIL using TF ops.\n",
        "\n",
        "  Args:\n",
        "    image: A 3D uint8 tensor.\n",
        "\n",
        "  Returns:\n",
        "    The image after it has had autocontrast applied to it and will be of type\n",
        "    uint8.\n",
        "  \"\"\"\n",
        "\n",
        "  def scale_channel(image):\n",
        "    \"\"\"Scale the 2D image using the autocontrast rule.\"\"\"\n",
        "    # A possibly cheaper version can be done using cumsum/unique_with_counts\n",
        "    # over the histogram values, rather than iterating over the entire image.\n",
        "    # to compute mins and maxes.\n",
        "    lo = tf.to_float(tf.reduce_min(image))\n",
        "    hi = tf.to_float(tf.reduce_max(image))\n",
        "\n",
        "    # Scale the image, making the lowest value 0 and the highest value 255.\n",
        "    def scale_values(im):\n",
        "      scale = 255.0 / (hi - lo)\n",
        "      offset = -lo * scale\n",
        "      im = tf.to_float(im) * scale + offset\n",
        "      im = tf.clip_by_value(im, 0.0, 255.0)\n",
        "      return tf.cast(im, tf.uint8)\n",
        "\n",
        "    result = tf.cond(hi > lo, lambda: scale_values(image), lambda: image)\n",
        "    return result\n",
        "\n",
        "  # Assumes RGB for now.  Scales each channel independently\n",
        "  # and then stacks the result.\n",
        "  s1 = scale_channel(image[:, :, 0])\n",
        "  s2 = scale_channel(image[:, :, 1])\n",
        "  s3 = scale_channel(image[:, :, 2])\n",
        "  image = tf.stack([s1, s2, s3], 2)\n",
        "  return image\n",
        "\n",
        "\n",
        "def sharpness(image, factor):\n",
        "  \"\"\"Implements Sharpness function from PIL using TF ops.\"\"\"\n",
        "  orig_image = image\n",
        "  image = tf.cast(image, tf.float32)\n",
        "  # Make image 4D for conv operation.\n",
        "  image = tf.expand_dims(image, 0)\n",
        "  # SMOOTH PIL Kernel.\n",
        "  kernel = tf.constant(\n",
        "      [[1, 1, 1], [1, 5, 1], [1, 1, 1]], dtype=tf.float32,\n",
        "      shape=[3, 3, 1, 1]) / 13.\n",
        "  # Tile across channel dimension.\n",
        "  kernel = tf.tile(kernel, [1, 1, 3, 1])\n",
        "  strides = [1, 1, 1, 1]\n",
        "  degenerate = tf.nn.depthwise_conv2d(\n",
        "      image, kernel, strides, padding='VALID')\n",
        "  degenerate = tf.clip_by_value(degenerate, 0.0, 255.0)\n",
        "  degenerate = tf.squeeze(tf.cast(degenerate, tf.uint8), [0])\n",
        "\n",
        "  # For the borders of the resulting image, fill in the values of the\n",
        "  # original image.\n",
        "  mask = tf.ones_like(degenerate)\n",
        "  padded_mask = tf.pad(mask, [[1, 1], [1, 1], [0, 0]])\n",
        "  padded_degenerate = tf.pad(degenerate, [[1, 1], [1, 1], [0, 0]])\n",
        "  result = tf.where(tf.equal(padded_mask, 1), padded_degenerate, orig_image)\n",
        "\n",
        "  # Blend the final result.\n",
        "  return blend(result, orig_image, factor)\n",
        "\n",
        "\n",
        "def equalize(image):\n",
        "  \"\"\"Implements Equalize function from PIL using TF ops.\"\"\"\n",
        "  def scale_channel(im, c):\n",
        "    \"\"\"Scale the data in the channel to implement equalize.\"\"\"\n",
        "    im = tf.cast(im[:, :, c], tf.int32)\n",
        "    # Compute the histogram of the image channel.\n",
        "    histo = tf.histogram_fixed_width(im, [0, 255], nbins=256)\n",
        "\n",
        "    # For the purposes of computing the step, filter out the nonzeros.\n",
        "    nonzero = tf.where(tf.not_equal(histo, 0))\n",
        "    nonzero_histo = tf.reshape(tf.gather(histo, nonzero), [-1])\n",
        "    step = (tf.reduce_sum(nonzero_histo) - nonzero_histo[-1]) // 255\n",
        "\n",
        "    def build_lut(histo, step):\n",
        "      # Compute the cumulative sum, shifting by step // 2\n",
        "      # and then normalization by step.\n",
        "      lut = (tf.cumsum(histo) + (step // 2)) // step\n",
        "      # Shift lut, prepending with 0.\n",
        "      lut = tf.concat([[0], lut[:-1]], 0)\n",
        "      # Clip the counts to be in range.  This is done\n",
        "      # in the C code for image.point.\n",
        "      return tf.clip_by_value(lut, 0, 255)\n",
        "\n",
        "    # If step is zero, return the original image.  Otherwise, build\n",
        "    # lut from the full histogram and step and then index from it.\n",
        "    result = tf.cond(tf.equal(step, 0),\n",
        "                     lambda: im,\n",
        "                     lambda: tf.gather(build_lut(histo, step), im))\n",
        "\n",
        "    return tf.cast(result, tf.uint8)\n",
        "\n",
        "  # Assumes RGB for now.  Scales each channel independently\n",
        "  # and then stacks the result.\n",
        "  s1 = scale_channel(image, 0)\n",
        "  s2 = scale_channel(image, 1)\n",
        "  s3 = scale_channel(image, 2)\n",
        "  image = tf.stack([s1, s2, s3], 2)\n",
        "  return image\n",
        "def gaussian_noise_layer(image, std = 0.8):\n",
        "    noise = tf.random.normal(shape= image.shape, mean=0.0, stddev=std, dtype=tf.float32)\n",
        "    return image + noise\n",
        "\n"
      ],
      "execution_count": null,
      "outputs": []
    },
    {
      "cell_type": "markdown",
      "metadata": {
        "id": "7JBzHx48fp30"
      },
      "source": [
        "## data preprocessing"
      ]
    },
    {
      "cell_type": "code",
      "metadata": {
        "id": "EArIeJPeax8c"
      },
      "source": [
        "# Create a dictionary describing the features.\n",
        "image_feature_description = {\n",
        "\n",
        "    'image': tf.io.FixedLenFeature([], tf.string, default_value=''),\n",
        "    'image_name': tf.io.FixedLenFeature([], tf.string, default_value=''),\n",
        "    'target': tf.io.FixedLenFeature([], tf.int64, default_value=0),\n",
        "}\n",
        "\n",
        "def _parse_image_function(example_proto):\n",
        "  # Parse the input tf.train.Example proto using the dictionary above.\n",
        "  return tf.io.parse_single_example(example_proto, image_feature_description)\n",
        "\n",
        "def preprocess(features,effesionet=True):\n",
        "  image_raw = features['image']\n",
        "  image = tf.io.decode_image(image_raw,channels=3)\n",
        "  image.set_shape([image_size,image_size,3])\n",
        "  label = features['target']\n",
        "\n",
        "  return image, label\n",
        "\n",
        "\n",
        "def normalize(image ,label):\n",
        "  image =  tf.cast(image,tf.uint8)\n",
        "  image = tf.cast(image,tf.float32)/255.0\n",
        "  #scale = tf.constant([0.229, 0.224, 0.225])\n",
        "  #offset = tf.constant([0.485, 0.456, 0.406])\n",
        "  #image -= offset\n",
        "  #image /= scale\n",
        "\n",
        "  return image , label\n",
        "@tf.function\n",
        "def central_crop_fn(image, fraction):\n",
        "    return tf.image.central_crop(image, fraction)\n",
        "\n",
        "\n",
        "@tf.function\n",
        "def augment(image,label):\n",
        "  image = tf.cast(image, dtype= tf.float32)\n",
        "  image = tf.image.resize(image,(image_size,image_size))\n",
        "  image.set_shape([image_size,image_size,3])\n",
        "\n",
        "  #print('image shape', image.shape)\n",
        "  image = tf.image.random_flip_left_right(image)\n",
        "  image = tf.image.random_flip_up_down(image)\n",
        "  #print(image)\n",
        "  if tf.random.uniform((),0,1.)<0.5:\n",
        "    for i in range(3 + np.random.randint(4, size=1)[0]):\n",
        "      image = cutout(image, 20, replace=0)\n",
        "  if tf.random.uniform((),0,1.)<0.5:\n",
        "    image = tfa.image.rotate(image,np.random.uniform(0,1,1)[0]*360)\n",
        "    #print('rotate shape', image.shape)\n",
        "    #print(image)\n",
        "  if tf.random.uniform((),0,1.)<0.5:\n",
        "    #print(image)\n",
        "    image = tfa.image.shear_y( image, np.random.uniform(0,0.3,1)[0], 0.)\n",
        "    #print(image)\n",
        "    image = tfa.image.shear_x( image, np.random.uniform(0,0.3,1)[0], 0.)\n",
        "    #print(image)\n",
        "    #print('shear shape', image.shape)\n",
        "    '''\n",
        "  if tf.random.uniform((),0,1.)<0.5:\n",
        "    image = gaussian_noise_layer(image, std = np.random.uniform(0,0.5,1)[0])\n",
        "    #print('gaussian shape', image.shape)\n",
        "  '''\n",
        "  if tf.random.uniform((),0,1.)<0.5:\n",
        "    image = equalize(image)\n",
        "    image = tf.cast(image, dtype= tf.float32)\n",
        "  if tf.random.uniform((),0,1.)<0.5:\n",
        "    h = np.random.randint(image_size//3, size=1)[0]+10\n",
        "    h = h//2 # 10%\n",
        "    w = np.random.randint(image_size//3, size=1)[0]+10\n",
        "    w = w//2 # 10%\n",
        "    cropped_image = image[h:image_size - h, w:image_size - w,:]\n",
        "    image = tf.pad(cropped_image, [[h,h], [w,w], [0,0]])\n",
        "    image = tf.image.resize(image,(image_size,image_size))\n",
        "  if tf.random.uniform((),0,1.)<0.5:\n",
        "    image = tf.image.random_brightness(image, np.random.uniform(0,1,1)[0])\n",
        "  if tf.random.uniform((),0,1.) >= 0.4:\n",
        "        image = tf.image.random_saturation(image, lower = 0.7, upper = 1.3)\n",
        "  if tf.random.uniform((),0,1.) >= 0.4:\n",
        "      image = tf.image.random_contrast(image, lower = 0.8, upper = 1.2)\n",
        "  '''\n",
        "  if tf.random.uniform((),0,1.)<0.5:\n",
        "    image = solarize(image)\n",
        "\n",
        "  '''\n",
        "  #print(image)\n",
        "  return image , label\n",
        "\n",
        "def Resize(image,label):\n",
        "  image = tf.image.resize(image,(image_size,image_size))\n",
        "  image.set_shape([image_size,image_size,3])\n",
        "  label_one_hot = tf.one_hot(label, depth=7, on_value=1, off_value=0)\n",
        "  #label_one_hot = tf.where(tf.equal(label_one_hot,1),tf.ones_like(label_one_hot),tf.ones_like(label_one_hot)*(-1))\n",
        "  return image , label_one_hot\n"
      ],
      "execution_count": null,
      "outputs": []
    },
    {
      "cell_type": "markdown",
      "metadata": {
        "id": "E6JtBZ3qfxOw"
      },
      "source": [
        "## generator"
      ]
    },
    {
      "cell_type": "code",
      "metadata": {
        "colab": {
          "base_uri": "https://localhost:8080/"
        },
        "id": "7c9lmHm2nSaR",
        "outputId": "54139766-c64f-4c17-b3f2-33dfad67f028"
      },
      "source": [
        "num_train = np.sum(number_of_train_samples)\n",
        "#num_train = np.sum(number_of_train_samples[0:3]+[number_of_train_samples[4]])\n",
        "num_train"
      ],
      "execution_count": null,
      "outputs": [
        {
          "output_type": "execute_result",
          "data": {
            "text/plain": [
              "62512"
            ]
          },
          "metadata": {},
          "execution_count": 14
        }
      ]
    },
    {
      "cell_type": "code",
      "metadata": {
        "colab": {
          "base_uri": "https://localhost:8080/"
        },
        "id": "NdpSxtNwnYtU",
        "outputId": "67bfc5c4-3f59-44b5-9e63-77268ccb644b"
      },
      "source": [
        "num_val = np.sum(number_of_val_samples)\n",
        "#num_val = np.sum(number_of_val_samples[0:3]+[number_of_val_samples[4]])\n",
        "num_val"
      ],
      "execution_count": null,
      "outputs": [
        {
          "output_type": "execute_result",
          "data": {
            "text/plain": [
              "10678"
            ]
          },
          "metadata": {},
          "execution_count": 15
        }
      ]
    },
    {
      "cell_type": "code",
      "metadata": {
        "colab": {
          "base_uri": "https://localhost:8080/"
        },
        "id": "KOwIPV2ef2kg",
        "outputId": "6d87f5fe-dfd3-4fb6-fef7-41e767c52480"
      },
      "source": [
        "train_tfrecs = glob.glob(os.path.join('/content/drive/MyDrive/AffectNet/data/train','*.tfrec'))\n",
        "'''\n",
        "tfrecs = ['/content/drive/MyDrive/AffectNet/data/train/class001.tfrec',\n",
        " '/content/drive/MyDrive/AffectNet/data/train/class002.tfrec',\n",
        " '/content/drive/MyDrive/AffectNet/data/train/class003.tfrec',\n",
        " '/content/drive/MyDrive/AffectNet/data/train/class004.tfrec',\n",
        " '/content/drive/MyDrive/AffectNet/data/train/class005.tfrec',\n",
        " '/content/drive/MyDrive/AffectNet/data/train/class006.tfrec',\n",
        " '/content/drive/MyDrive/AffectNet/data/train/class007.tfrec',\n",
        " '/content/drive/MyDrive/AffectNet/data/train/class008.tfrec']\n",
        "train_tfrecs = tfrecs[0:3]+[tfrecs[4]]\n",
        "'''\n",
        "train_tfrecs"
      ],
      "execution_count": null,
      "outputs": [
        {
          "output_type": "execute_result",
          "data": {
            "text/plain": [
              "['/content/drive/MyDrive/AffectNet/data/train/class002.tfrec',\n",
              " '/content/drive/MyDrive/AffectNet/data/train/class001.tfrec',\n",
              " '/content/drive/MyDrive/AffectNet/data/train/class003.tfrec',\n",
              " '/content/drive/MyDrive/AffectNet/data/train/class004.tfrec',\n",
              " '/content/drive/MyDrive/AffectNet/data/train/class005.tfrec',\n",
              " '/content/drive/MyDrive/AffectNet/data/train/class006.tfrec',\n",
              " '/content/drive/MyDrive/AffectNet/data/train/class007.tfrec',\n",
              " '/content/drive/MyDrive/AffectNet/data/train/neutral.tfrec',\n",
              " '/content/drive/MyDrive/AffectNet/data/train/happy.tfrec',\n",
              " '/content/drive/MyDrive/AffectNet/data/train/sad.tfrec',\n",
              " '/content/drive/MyDrive/AffectNet/data/train/surprise.tfrec',\n",
              " '/content/drive/MyDrive/AffectNet/data/train/fear.tfrec',\n",
              " '/content/drive/MyDrive/AffectNet/data/train/disgust.tfrec',\n",
              " '/content/drive/MyDrive/AffectNet/data/train/angry.tfrec']"
            ]
          },
          "metadata": {},
          "execution_count": 16
        }
      ]
    },
    {
      "cell_type": "code",
      "metadata": {
        "id": "2KiJonS2ax5o"
      },
      "source": [
        "BATCH_SIZE = 32\n",
        "ds_train = tf.data.TFRecordDataset(train_tfrecs)\n",
        "ds_train = ds_train.map(_parse_image_function, num_parallel_calls=tf.data.experimental.AUTOTUNE).shuffle(num_train).prefetch(100)\n",
        "ds_train  =  ds_train.map(preprocess).map(augment).map(normalize)\n",
        "ds_train  = ds_train.map(Resize).batch(BATCH_SIZE,drop_remainder=True).repeat()"
      ],
      "execution_count": null,
      "outputs": []
    },
    {
      "cell_type": "code",
      "metadata": {
        "colab": {
          "base_uri": "https://localhost:8080/"
        },
        "id": "mFgA1wsWh943",
        "outputId": "4b33cb15-190e-4667-9fe8-94196558e722"
      },
      "source": [
        "val_tfrecs = glob.glob(os.path.join('/content/drive/MyDrive/AffectNet/data/val','*.tfrec'))\n",
        "'''\n",
        "tfrecs = ['/content/drive/MyDrive/AffectNet/data/val/class001.tfrec',\n",
        " '/content/drive/MyDrive/AffectNet/data/val/class002.tfrec',\n",
        " '/content/drive/MyDrive/AffectNet/data/val/class003.tfrec',\n",
        " '/content/drive/MyDrive/AffectNet/data/val/class004.tfrec',\n",
        " '/content/drive/MyDrive/AffectNet/data/val/class005.tfrec',\n",
        " '/content/drive/MyDrive/AffectNet/data/val/class006.tfrec',\n",
        " '/content/drive/MyDrive/AffectNet/data/val/class007.tfrec',\n",
        " '/content/drive/MyDrive/AffectNet/data/val/class008.tfrec']\n",
        "val_tfrecs = tfrecs[0:3]+[tfrecs[4]]\n",
        "'''\n",
        "val_tfrecs"
      ],
      "execution_count": null,
      "outputs": [
        {
          "output_type": "execute_result",
          "data": {
            "text/plain": [
              "['/content/drive/MyDrive/AffectNet/data/val/class001.tfrec',\n",
              " '/content/drive/MyDrive/AffectNet/data/val/class002.tfrec',\n",
              " '/content/drive/MyDrive/AffectNet/data/val/class003.tfrec',\n",
              " '/content/drive/MyDrive/AffectNet/data/val/class004.tfrec',\n",
              " '/content/drive/MyDrive/AffectNet/data/val/class005.tfrec',\n",
              " '/content/drive/MyDrive/AffectNet/data/val/class006.tfrec',\n",
              " '/content/drive/MyDrive/AffectNet/data/val/class007.tfrec',\n",
              " '/content/drive/MyDrive/AffectNet/data/val/neutral.tfrec',\n",
              " '/content/drive/MyDrive/AffectNet/data/val/happy.tfrec',\n",
              " '/content/drive/MyDrive/AffectNet/data/val/sad.tfrec',\n",
              " '/content/drive/MyDrive/AffectNet/data/val/surprise.tfrec',\n",
              " '/content/drive/MyDrive/AffectNet/data/val/fear.tfrec',\n",
              " '/content/drive/MyDrive/AffectNet/data/val/disgust.tfrec',\n",
              " '/content/drive/MyDrive/AffectNet/data/val/angry.tfrec']"
            ]
          },
          "metadata": {},
          "execution_count": 18
        }
      ]
    },
    {
      "cell_type": "code",
      "metadata": {
        "id": "xlJlKGbVax22"
      },
      "source": [
        "BATCH_SIZE_TEST = 32\n",
        "ds_val = tf.data.TFRecordDataset(val_tfrecs)\n",
        "ds_val = ds_val.map(_parse_image_function,num_parallel_calls=tf.data.experimental.AUTOTUNE).prefetch(100)\n",
        "ds_val  =  ds_val.map(preprocess).map(normalize)\n",
        "ds_val  = ds_val.map(Resize).batch(BATCH_SIZE_TEST,drop_remainder=True).repeat()"
      ],
      "execution_count": null,
      "outputs": []
    },
    {
      "cell_type": "code",
      "metadata": {
        "colab": {
          "base_uri": "https://localhost:8080/"
        },
        "id": "t_sj-cPogO2f",
        "outputId": "68730e2a-2644-43e1-dd87-da2372d7ecd1"
      },
      "source": [
        "img, label = next(iter(ds_train))\n",
        "img.shape"
      ],
      "execution_count": null,
      "outputs": [
        {
          "output_type": "execute_result",
          "data": {
            "text/plain": [
              "TensorShape([32, 224, 224, 3])"
            ]
          },
          "metadata": {},
          "execution_count": 20
        }
      ]
    },
    {
      "cell_type": "code",
      "metadata": {
        "colab": {
          "base_uri": "https://localhost:8080/"
        },
        "id": "SFNYSVzOj0e5",
        "outputId": "74098d71-5a01-4c13-cb46-c563ab341621"
      },
      "source": [
        "label"
      ],
      "execution_count": null,
      "outputs": [
        {
          "output_type": "execute_result",
          "data": {
            "text/plain": [
              "<tf.Tensor: shape=(32, 7), dtype=int32, numpy=\n",
              "array([[0, 1, 0, 0, 0, 0, 0],\n",
              "       [0, 1, 0, 0, 0, 0, 0],\n",
              "       [0, 0, 0, 0, 1, 0, 0],\n",
              "       [0, 0, 0, 0, 0, 0, 1],\n",
              "       [0, 1, 0, 0, 0, 0, 0],\n",
              "       [1, 0, 0, 0, 0, 0, 0],\n",
              "       [0, 0, 0, 0, 0, 0, 1],\n",
              "       [0, 0, 0, 1, 0, 0, 0],\n",
              "       [1, 0, 0, 0, 0, 0, 0],\n",
              "       [0, 0, 0, 0, 0, 0, 1],\n",
              "       [0, 0, 0, 0, 0, 1, 0],\n",
              "       [0, 0, 1, 0, 0, 0, 0],\n",
              "       [1, 0, 0, 0, 0, 0, 0],\n",
              "       [0, 0, 0, 0, 0, 0, 1],\n",
              "       [0, 1, 0, 0, 0, 0, 0],\n",
              "       [0, 0, 0, 1, 0, 0, 0],\n",
              "       [0, 0, 0, 1, 0, 0, 0],\n",
              "       [0, 0, 1, 0, 0, 0, 0],\n",
              "       [1, 0, 0, 0, 0, 0, 0],\n",
              "       [0, 0, 0, 1, 0, 0, 0],\n",
              "       [0, 0, 1, 0, 0, 0, 0],\n",
              "       [0, 0, 0, 0, 0, 0, 1],\n",
              "       [0, 0, 1, 0, 0, 0, 0],\n",
              "       [0, 1, 0, 0, 0, 0, 0],\n",
              "       [0, 0, 0, 0, 1, 0, 0],\n",
              "       [0, 0, 0, 0, 1, 0, 0],\n",
              "       [0, 0, 0, 0, 0, 1, 0],\n",
              "       [1, 0, 0, 0, 0, 0, 0],\n",
              "       [0, 1, 0, 0, 0, 0, 0],\n",
              "       [0, 1, 0, 0, 0, 0, 0],\n",
              "       [0, 1, 0, 0, 0, 0, 0],\n",
              "       [0, 0, 0, 1, 0, 0, 0]], dtype=int32)>"
            ]
          },
          "metadata": {},
          "execution_count": 21
        }
      ]
    },
    {
      "cell_type": "code",
      "metadata": {
        "colab": {
          "base_uri": "https://localhost:8080/"
        },
        "id": "2bV5QC0UeI9Z",
        "outputId": "19706621-029c-4b31-b0ad-7e76949043e4"
      },
      "source": [
        "image = img[3,:,:,:]*255.0\n",
        "image = image.numpy()\n",
        "image = image.astype(np.uint8)\n",
        "image = cv2.cvtColor(image, cv2.COLOR_BGR2RGB)\n",
        "plt.imshow(image)"
      ],
      "execution_count": null,
      "outputs": [
        {
          "output_type": "execute_result",
          "data": {
            "text/plain": [
              "<matplotlib.image.AxesImage at 0x7f9930338850>"
            ]
          },
          "metadata": {},
          "execution_count": 22
        },
        {
          "output_type": "display_data",
          "data": {
            "image/png": "[encoded data removed]",
            "text/plain": [
              "<Figure size 432x288 with 1 Axes>"
            ]
          },
          "metadata": {
            "needs_background": "light"
          }
        }
      ]
    },
    {
      "cell_type": "code",
      "metadata": {
        "id": "bZnqXIBleI7A",
        "colab": {
          "base_uri": "https://localhost:8080/"
        },
        "outputId": "13d9e3d9-0576-4d0b-ef06-776161c88845"
      },
      "source": [
        "int2label = {0: \"Neutral\",\n",
        "             1: \"Happy\",\n",
        "             2: \"Sad\",\n",
        "             3: \"Surprise\",\n",
        "             4: \"Fear\",\n",
        "             5: \"Disgust\",\n",
        "             6: \"anger\",\n",
        "             7: \"Contempt\"}\n",
        "\n",
        "fig = plt.figure(figsize=(10,10))\n",
        "fig.suptitle(\"Some examples of dataset\", fontsize=14)\n",
        "for j in range(4):\n",
        "  for i in range(2):\n",
        "    plt.subplot(4,2,j*2 + i+1)\n",
        "    plt.xticks([])\n",
        "    plt.yticks([])\n",
        "    plt.grid(False)\n",
        "    image = img[j*2 + i,:,:,:]*255.0\n",
        "    image = image.numpy()\n",
        "    image = image.astype(np.uint8)\n",
        "    image = cv2.cvtColor(image, cv2.COLOR_BGR2RGB)\n",
        "    plt.imshow(image)\n",
        "    plt.xlabel(int2label[np.argmax(label[j*2 + i])])\n",
        "plt.show()"
      ],
      "execution_count": null,
      "outputs": [
        {
          "output_type": "display_data",
          "data": {
            "image/png": "[encoded data removed]",
            "text/plain": [
              "<Figure size 720x720 with 8 Axes>"
            ]
          },
          "metadata": {}
        }
      ]
    },
    {
      "cell_type": "markdown",
      "metadata": {
        "id": "rjzc0AqroTSs"
      },
      "source": [
        "# Model"
      ]
    },
    {
      "cell_type": "code",
      "metadata": {
        "id": "EgVpxS6jeI4L",
        "colab": {
          "base_uri": "https://localhost:8080/"
        },
        "outputId": "789ccd84-249c-4d8a-ca58-f2c45e26eac2"
      },
      "source": [
        "NUM_CLASSES = 7\n",
        "EPOCHS = 10\n",
        "TRAIN_STEPS = num_train//BATCH_SIZE + 1\n",
        "TRAIN_STEPS"
      ],
      "execution_count": null,
      "outputs": [
        {
          "output_type": "execute_result",
          "data": {
            "text/plain": [
              "1954"
            ]
          },
          "metadata": {},
          "execution_count": 24
        }
      ]
    },
    {
      "cell_type": "code",
      "metadata": {
        "id": "-DHIWzN1eI1c",
        "colab": {
          "base_uri": "https://localhost:8080/"
        },
        "outputId": "55f76343-c7a2-4cac-af05-229917269c81"
      },
      "source": [
        "VAL_STEPS = num_val//BATCH_SIZE_TEST\n",
        "VAL_STEPS"
      ],
      "execution_count": null,
      "outputs": [
        {
          "output_type": "execute_result",
          "data": {
            "text/plain": [
              "333"
            ]
          },
          "metadata": {},
          "execution_count": 25
        }
      ]
    },
    {
      "cell_type": "code",
      "metadata": {
        "id": "KOuTfu_ReIyv"
      },
      "source": [
        "def cce_with_label_smoothing(y_true,y_pred):\n",
        "  return tf.keras.losses.categorical_crossentropy(y_true,y_pred,label_smoothing=0.2)"
      ],
      "execution_count": null,
      "outputs": []
    },
    {
      "cell_type": "code",
      "metadata": {
        "id": "7zu5rOs3eIwH"
      },
      "source": [
        "from tensorflow.keras.applications import EfficientNetB5, Xception,ResNet50V2\n",
        "from tensorflow.keras.models import Model\n",
        "from tensorflow.keras.layers import Dense, GlobalAveragePooling2D, Dropout, BatchNormalization\n",
        "from tensorflow.keras.callbacks import ModelCheckpoint\n",
        "def EfficientNetB5_model():\n",
        "  # create the base pre-trained model\n",
        "  base_model =  Xception(include_top=False, weights = 'imagenet', input_shape = (image_size, image_size, 3))\n",
        "\n",
        "  model = tf.keras.Sequential()\n",
        "  model.add(base_model)\n",
        "  #model.add(BatchNormalization(axis=-1))\n",
        "  model.add(GlobalAveragePooling2D())\n",
        "  model.add(Dropout(0.5))\n",
        "  model.add(Dense(NUM_CLASSES, activation='softmax'))\n",
        "  optimizer = tf.keras.optimizers.Adam(learning_rate=1e-4)\n",
        "  #lr_sc = tf.keras.optimizers.schedules.ExponentialDecay(1e-4,500 ,decay_rate=0.96)\n",
        "  #optimizer = tf.keras.optimizers.Adam(lr_sc,beta_1=0.9,beta_2=0.999)\n",
        "  for layer in base_model.layers:\n",
        "    layer.trainable = True\n",
        "  model.compile(loss= cce_with_label_smoothing,\n",
        "                optimizer = optimizer,\n",
        "                loss_weights=[0.13940939, 0.13540248, 0.13724981, 0.1307109 , 0.11552406, 0.18781098, 0.11389237],\n",
        "                metrics=['accuracy'])\n",
        "  return model"
      ],
      "execution_count": null,
      "outputs": []
    },
    {
      "cell_type": "code",
      "metadata": {
        "id": "Icg4L1JepCmI",
        "colab": {
          "base_uri": "https://localhost:8080/"
        },
        "outputId": "398bec1d-82a7-49eb-9633-ed3d3398fdf4"
      },
      "source": [
        "model = EfficientNetB5_model()"
      ],
      "execution_count": null,
      "outputs": [
        {
          "output_type": "stream",
          "name": "stdout",
          "text": [
            "Downloading data from https://storage.googleapis.com/tensorflow/keras-applications/xception/xception_weights_tf_dim_ordering_tf_kernels_notop.h5\n",
            "83689472/83683744 [==============================] - 1s 0us/step\n",
            "83697664/83683744 [==============================] - 1s 0us/step\n"
          ]
        }
      ]
    },
    {
      "cell_type": "code",
      "metadata": {
        "id": "E2CzIj8cb1uK"
      },
      "source": [
        "model.load_weights('/content/drive/MyDrive/AffectNet/chs/weights-xception-newdata+wl-run5-03-0.6718.hdf5')"
      ],
      "execution_count": null,
      "outputs": []
    },
    {
      "cell_type": "code",
      "metadata": {
        "colab": {
          "base_uri": "https://localhost:8080/"
        },
        "id": "StD1Tyj9_TFE",
        "outputId": "2eea3c3c-0cac-4a01-fb77-38a52ccee342"
      },
      "source": [
        "model.save('/content/drive/MyDrive/AffectNet/our_model.h5')"
      ],
      "execution_count": null,
      "outputs": [
        {
          "output_type": "stream",
          "name": "stderr",
          "text": [
            "/usr/local/lib/python3.7/dist-packages/keras/engine/functional.py:1410: CustomMaskWarning: Custom mask layers require a config and must override get_config. When loading, the custom mask layer must be passed to the custom_objects argument.\n",
            "  layer_config = serialize_layer_fn(layer)\n"
          ]
        }
      ]
    },
    {
      "cell_type": "code",
      "metadata": {
        "id": "q5mUvSZtpEow"
      },
      "source": [
        "from tensorflow.keras.callbacks import ModelCheckpoint\n",
        "# checkpoint\n",
        "filepath=\"/content/drive/MyDrive/AffectNet/chs/weights-xception-newdata+wl-adam-run0-{epoch:02d}-{val_accuracy:.4f}.hdf5\"\n",
        "checkpoint = ModelCheckpoint(filepath, monitor='val_accuracy',\n",
        "                             verbose=1,\n",
        "                             save_weights_only=True,\n",
        "                             save_best_only=True,\n",
        "                             mode='max')\n",
        "#callbacks_list = [ checkpoint,tf.keras.callbacks.EarlyStopping(monitor='val_loss',patience=3,) ]\n",
        "callbacks_list = [ checkpoint]\n",
        "\n",
        "history = model.fit(ds_train,\n",
        "                    epochs= EPOCHS,\n",
        "                    validation_data = ds_val,\n",
        "                    steps_per_epoch= TRAIN_STEPS,\n",
        "                    validation_steps = VAL_STEPS,\n",
        "                    callbacks = callbacks_list)"
      ],
      "execution_count": null,
      "outputs": []
    },
    {
      "cell_type": "code",
      "metadata": {
        "id": "KarD2xcApHP6"
      },
      "source": [
        "Epoch 1/10\n",
        "1954/1954 [==============================] - ETA: 0s - loss: 1.4181 - accuracy: 0.5933\n",
        "Epoch 00001: val_accuracy improved from -inf to 0.62397, saving model to /content/drive/MyDrive/AffectNet/chs/weights-xception-newdata-run1-01-0.6240.hdf5\n",
        "1954/1954 [==============================] - 2677s 1s/step - loss: 1.4181 - accuracy: 0.5933 - val_loss: 1.3716 - val_accuracy: 0.6240\n",
        "Epoch 2/10\n",
        "1954/1954 [==============================] - ETA: 0s - loss: 1.3773 - accuracy: 0.6212\n",
        "Epoch 00002: val_accuracy improved from 0.62397 to 0.64358, saving model to /content/drive/MyDrive/AffectNet/chs/weights-xception-newdata-run1-02-0.6436.hdf5\n",
        "1954/1954 [==============================] - 2617s 1s/step - loss: 1.3773 - accuracy: 0.6212 - val_loss: 1.3377 - val_accuracy: 0.6436\n",
        "Epoch 3/10\n",
        "1954/1954 [==============================] - ETA: 0s - loss: 1.3452 - accuracy: 0.6403\n",
        "Epoch 00003: val_accuracy improved from 0.64358 to 0.65109, saving model to /content/drive/MyDrive/AffectNet/chs/weights-xception-newdata-run1-03-0.6511.hdf5\n",
        "1954/1954 [==============================] - 2570s 1s/step - loss: 1.3452 - accuracy: 0.6403 - val_loss: 1.3308 - val_accuracy: 0.6511\n",
        "Epoch 1/10\n",
        "1954/1954 [==============================] - ETA: 0s - loss: 1.3797 - accuracy: 0.6205\n",
        "Epoch 00001: val_accuracy improved from -inf to 0.64555, saving model to /content/drive/MyDrive/AffectNet/chs/weights-xception-newdata-run2-01-0.6456.hdf5\n",
        "1954/1954 [==============================] - 2619s 1s/step - loss: 1.3797 - accuracy: 0.6205 - val_loss: 1.3425 - val_accuracy: 0.6456\n",
        "Epoch 2/10\n",
        "1954/1954 [==============================] - ETA: 0s - loss: 1.3496 - accuracy: 0.6385\n",
        "Epoch 00002: val_accuracy improved from 0.64555 to 0.65550, saving model to /content/drive/MyDrive/AffectNet/chs/weights-xception-newdata-run2-02-0.6555.hdf5\n",
        "1954/1954 [==============================] - 2598s 1s/step - loss: 1.3496 - accuracy: 0.6385 - val_loss: 1.3323 - val_accuracy: 0.6555\n",
        "Epoch 3/10\n",
        "1954/1954 [==============================] - ETA: 0s - loss: 1.3288 - accuracy: 0.6534\n",
        "Epoch 00003: val_accuracy improved from 0.65550 to 0.65822, saving model to /content/drive/MyDrive/AffectNet/chs/weights-xception-newdata-run2-03-0.6582.hdf5\n",
        "1954/1954 [==============================] - 2551s 1s/step - loss: 1.3288 - accuracy: 0.6534 - val_loss: 1.3243 - val_accuracy: 0.6582\n",
        "Epoch 4/10\n",
        "1954/1954 [==============================] - ETA: 0s - loss: 1.3084 - accuracy: 0.6677\n",
        "Epoch 00004: val_accuracy improved from 0.65822 to 0.66179, saving model to /content/drive/MyDrive/AffectNet/chs/weights-xception-newdata-run2-04-0.6618.hdf5\n",
        "1954/1954 [==============================] - 2560s 1s/step - loss: 1.3084 - accuracy: 0.6677 - val_loss: 1.3244 - val_accuracy: 0.6618\n",
        "Epoch 5/10\n",
        "1954/1954 [==============================] - ETA: 0s - loss: 1.2886 - accuracy: 0.6776\n",
        "Epoch 00005: val_accuracy improved from 0.66179 to 0.66845, saving model to /content/drive/MyDrive/AffectNet/chs/weights-xception-newdata-run2-05-0.6684.hdf5\n",
        "1954/1954 [==============================] - 2603s 1s/step - loss: 1.2886 - accuracy: 0.6776 - val_loss: 1.3120 - val_accuracy: 0.6684\n",
        "Epoch 1/10\n",
        "1954/1954 [==============================] - ETA: 0s - loss: 0.2107 - accuracy: 0.6575\n",
        "Epoch 00001: val_accuracy improved from -inf to 0.66573, saving model to /content/drive/MyDrive/AffectNet/chs/weights-xception-newdata+wl-run5-01-0.6657.hdf5\n",
        "1954/1954 [==============================] - 3458s 2s/step - loss: 0.2107 - accuracy: 0.6575 - val_loss: 0.2092 - val_accuracy: 0.6657\n",
        "Epoch 2/10\n",
        "1954/1954 [==============================] - ETA: 0s - loss: 0.2056 - accuracy: 0.6766\n",
        "Epoch 00002: val_accuracy did not improve from 0.66573\n",
        "1954/1954 [==============================] - 3416s 2s/step - loss: 0.2056 - accuracy: 0.6766 - val_loss: 0.2121 - val_accuracy: 0.6583\n",
        "Epoch 3/10\n",
        "1954/1954 [==============================] - ETA: 0s - loss: 0.2020 - accuracy: 0.6918\n",
        "Epoch 00003: val_accuracy improved from 0.66573 to 0.67183, saving model to /content/drive/MyDrive/AffectNet/chs/weights-xception-newdata+wl-run5-03-0.6718.hdf5\n",
        "1954/1954 [==============================] - 3418s 2s/step - loss: 0.2020 - accuracy: 0.6918 - val_loss: 0.2099 - val_accuracy: 0.6718\n",
        "Epoch 4/10\n",
        "1954/1954 [==============================] - ETA: 0s - loss: 0.1989 - accuracy: 0.7052\n",
        "Epoch 00004: val_accuracy did not improve from 0.67183\n",
        "1954/1954 [==============================] - 3396s 2s/step - loss: 0.1989 - accuracy: 0.7052 - val_loss: 0.2101 - val_accuracy: 0.6707\n",
        "\n"
      ],
      "execution_count": null,
      "outputs": []
    },
    {
      "cell_type": "code",
      "metadata": {
        "colab": {
          "base_uri": "https://localhost:8080/"
        },
        "id": "8M-sBwrs_uTp",
        "outputId": "d84f4050-7495-4a56-b2c1-24df2a7770ee"
      },
      "source": [
        "Epoch 1/10\n",
        "1174/1174 [==============================] - ETA: 0s - loss: 1.8780 - accuracy: 0.3157\n",
        "Epoch 00001: val_accuracy improved from -inf to 0.45300, saving model to /content/drive/MyDrive/AffectNet/chs/weights-xception-sig-run0-01-0.4530.hdf5\n",
        "1174/1174 [==============================] - 1588s 1s/step - loss: 1.8780 - accuracy: 0.3157 - val_loss: 1.6963 - val_accuracy: 0.4530\n",
        "Epoch 2/10\n",
        "1174/1174 [==============================] - ETA: 0s - loss: 1.7002 - accuracy: 0.4496\n",
        "Epoch 00002: val_accuracy improved from 0.45300 to 0.48450, saving model to /content/drive/MyDrive/AffectNet/chs/weights-xception-sig-run0-02-0.4845.hdf5\n",
        "1174/1174 [==============================] - 1574s 1s/step - loss: 1.7002 - accuracy: 0.4496 - val_loss: 1.6489 - val_accuracy: 0.4845\n",
        "Epoch 3/10\n",
        "1174/1174 [==============================] - ETA: 0s - loss: 1.6353 - accuracy: 0.4912\n",
        "Epoch 00003: val_accuracy improved from 0.48450 to 0.50625, saving model to /content/drive/MyDrive/AffectNet/chs/weights-xception-sig-run0-03-0.5063.hdf5\n",
        "1174/1174 [==============================] - 1585s 1s/step - loss: 1.6353 - accuracy: 0.4912 - val_loss: 1.6342 - val_accuracy: 0.5063\n",
        "Epoch 4/10\n",
        "1174/1174 [==============================] - ETA: 0s - loss: 1.5957 - accuracy: 0.5169\n",
        "Epoch 00004: val_accuracy improved from 0.50625 to 0.52075, saving model to /content/drive/MyDrive/AffectNet/chs/weights-xception-sig-run0-04-0.5207.hdf5\n",
        "1174/1174 [==============================] - 1590s 1s/step - loss: 1.5957 - accuracy: 0.5169 - val_loss: 1.5994 - val_accuracy: 0.5207\n",
        "Epoch 5/10\n",
        "1174/1174 [==============================] - ETA: 0s - loss: 1.5734 - accuracy: 0.5304\n",
        "Epoch 00005: val_accuracy improved from 0.52075 to 0.52975, saving model to /content/drive/MyDrive/AffectNet/chs/weights-xception-sig-run0-05-0.5297.hdf5\n",
        "1174/1174 [==============================] - 1596s 1s/step - loss: 1.5734 - accuracy: 0.5304 - val_loss: 1.5778 - val_accuracy: 0.5297\n",
        "Epoch 6/10\n",
        "1174/1174 [==============================] - ETA: 0s - loss: 1.5517 - accuracy: 0.5450\n",
        "Epoch 00006: val_accuracy improved from 0.52975 to 0.53150, saving model to /content/drive/MyDrive/AffectNet/chs/weights-xception-sig-run0-06-0.5315.hdf5\n",
        "1174/1174 [==============================] - 1590s 1s/step - loss: 1.5517 - accuracy: 0.5450 - val_loss: 1.5716 - val_accuracy: 0.5315\n",
        "Epoch 7/10\n",
        "1174/1174 [==============================] - ETA: 0s - loss: 1.5321 - accuracy: 0.5586\n",
        "Epoch 00007: val_accuracy improved from 0.53150 to 0.54400, saving model to /content/drive/MyDrive/AffectNet/chs/weights-xception-sig-run0-07-0.5440.hdf5\n",
        "1174/1174 [==============================] - 1595s 1s/step - loss: 1.5321 - accuracy: 0.5586 - val_loss: 1.5655 - val_accuracy: 0.5440\n",
        "Epoch 8/10\n",
        "1174/1174 [==============================] - ETA: 0s - loss: 1.5158 - accuracy: 0.5689\n",
        "Epoch 00008: val_accuracy improved from 0.54400 to 0.56375, saving model to /content/drive/MyDrive/AffectNet/chs/weights-xception-sig-run0-08-0.5638.hdf5\n",
        "1174/1174 [==============================] - 1590s 1s/step - loss: 1.5158 - accuracy: 0.5689 - val_loss: 1.5288 - val_accuracy: 0.5638"
      ],
      "execution_count": null,
      "outputs": [
        {
          "output_type": "execute_result",
          "data": {
            "text/plain": [
              "<keras.callbacks.History at 0x7f5a8d0cb290>"
            ]
          },
          "metadata": {},
          "execution_count": 31
        }
      ]
    },
    {
      "cell_type": "code",
      "metadata": {
        "colab": {
          "base_uri": "https://localhost:8080/"
        },
        "id": "5_43puTHpa1t",
        "outputId": "75714d68-4451-430d-cb93-0d1040f3b0c9"
      },
      "source": [
        "h0 = {'accuracy': [0.2965555787086487,\n",
        "  0.4170038402080536,\n",
        "  0.46212202310562134,\n",
        "  0.48528003692626953,\n",
        "  0.49933454394340515,\n",
        "  0.5121645927429199,\n",
        "  0.5257399678230286,\n",
        "  0.5346571803092957,\n",
        "  0.544346272945404,\n",
        "  0.5551000833511353],\n",
        " 'loss': [1.9183721542358398,\n",
        "  1.7505545616149902,\n",
        "  1.6860356330871582,\n",
        "  1.652921199798584,\n",
        "  1.626558780670166,\n",
        "  1.6077977418899536,\n",
        "  1.5900479555130005,\n",
        "  1.5746004581451416,\n",
        "  1.558451771736145,\n",
        "  1.5449646711349487],\n",
        " 'val_accuracy': [0.40625,\n",
        "  0.46799999475479126,\n",
        "  0.44850000739097595,\n",
        "  0.5257499814033508,\n",
        "  0.49050000309944153,\n",
        "  0.5249999761581421,\n",
        "  0.48899999260902405,\n",
        "  0.5325000286102295,\n",
        "  0.5492500066757202,\n",
        "  0.5634999871253967],\n",
        " 'val_loss': [1.7514656782150269,\n",
        "  1.6733512878417969,\n",
        "  1.7227815389633179,\n",
        "  1.5801509618759155,\n",
        "  1.641913890838623,\n",
        "  1.5838892459869385,\n",
        "  1.644606351852417,\n",
        "  1.5724586248397827,\n",
        "  1.5651421546936035,\n",
        "  1.5355054140090942]}"
      ],
      "execution_count": null,
      "outputs": [
        {
          "output_type": "execute_result",
          "data": {
            "text/plain": [
              "{'accuracy': [0.2965555787086487,\n",
              "  0.4170038402080536,\n",
              "  0.46212202310562134,\n",
              "  0.48528003692626953,\n",
              "  0.49933454394340515,\n",
              "  0.5121645927429199,\n",
              "  0.5257399678230286,\n",
              "  0.5346571803092957,\n",
              "  0.544346272945404,\n",
              "  0.5551000833511353],\n",
              " 'loss': [1.9183721542358398,\n",
              "  1.7505545616149902,\n",
              "  1.6860356330871582,\n",
              "  1.652921199798584,\n",
              "  1.626558780670166,\n",
              "  1.6077977418899536,\n",
              "  1.5900479555130005,\n",
              "  1.5746004581451416,\n",
              "  1.558451771736145,\n",
              "  1.5449646711349487],\n",
              " 'val_accuracy': [0.40625,\n",
              "  0.46799999475479126,\n",
              "  0.44850000739097595,\n",
              "  0.5257499814033508,\n",
              "  0.49050000309944153,\n",
              "  0.5249999761581421,\n",
              "  0.48899999260902405,\n",
              "  0.5325000286102295,\n",
              "  0.5492500066757202,\n",
              "  0.5634999871253967],\n",
              " 'val_loss': [1.7514656782150269,\n",
              "  1.6733512878417969,\n",
              "  1.7227815389633179,\n",
              "  1.5801509618759155,\n",
              "  1.641913890838623,\n",
              "  1.5838892459869385,\n",
              "  1.644606351852417,\n",
              "  1.5724586248397827,\n",
              "  1.5651421546936035,\n",
              "  1.5355054140090942]}"
            ]
          },
          "metadata": {},
          "execution_count": 33
        }
      ]
    },
    {
      "cell_type": "code",
      "metadata": {
        "id": "Cax9bkWrQs_8"
      },
      "source": [],
      "execution_count": null,
      "outputs": []
    }
  ]
}